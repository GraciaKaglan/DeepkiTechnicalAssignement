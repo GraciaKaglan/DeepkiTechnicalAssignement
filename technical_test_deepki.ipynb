{
  "nbformat": 4,
  "nbformat_minor": 0,
  "metadata": {
    "colab": {
      "provenance": []
    },
    "kernelspec": {
      "name": "python3",
      "display_name": "Python 3"
    },
    "language_info": {
      "name": "python"
    }
  },
  "cells": [
    {
      "cell_type": "code",
      "source": [
        "import geopandas as gpd\n",
        "import pandas as pd\n",
        "import requests\n",
        "import gzip\n",
        "import shutil\n",
        "from pathlib import Path\n",
        "from concurrent.futures import ThreadPoolExecutor\n",
        "\n",
        "DATA_URL = \"https://storage.googleapis.com/open-buildings-data/v3/polygons_s2_level_4_gzip/009_buildings.csv.gz\"\n",
        "DATA_DIR = Path(\"data\")\n",
        "GZIP_PATH = DATA_DIR / \"009_buildings.csv.gz\"\n",
        "CSV_PATH = DATA_DIR / \"009_buildings.csv\"\n",
        "CRISTO_COORDS = (-43.2105, -22.9519)  # Cristo Redentor coordinates\n",
        "\n",
        "def download_file(url, output_path, chunk_size=1024):\n",
        "    response = requests.get(url, stream=True)\n",
        "    response.raise_for_status()\n",
        "    with open(output_path, 'wb') as f:\n",
        "        for chunk in response.iter_content(chunk_size=chunk_size):\n",
        "            f.write(chunk)\n",
        "\n",
        "def extract_gzip(input_path, output_path):\n",
        "    with gzip.open(input_path, 'rb') as f_in:\n",
        "        with open(output_path, 'wb') as f_out:\n",
        "            shutil.copyfileobj(f_in, f_out)\n",
        "\n",
        "def download_and_extract():\n",
        "    DATA_DIR.mkdir(exist_ok=True)\n",
        "    with ThreadPoolExecutor() as executor:\n",
        "        if not GZIP_PATH.exists():\n",
        "            executor.submit(download_file, DATA_URL, GZIP_PATH)\n",
        "\n",
        "        if not CSV_PATH.exists():\n",
        "            executor.submit(extract_gzip, GZIP_PATH, CSV_PATH)\n",
        "\n",
        "def load_data_to_geodataframe(csv_path):\n",
        "    df = pd.read_csv(csv_path, usecols=['longitude',\n",
        "                                        'latitude',\n",
        "                                        'full_plus_code',\n",
        "                                        'area_in_meters',\n",
        "                                        'confidence'])\n",
        "    gdf = gpd.GeoDataFrame(df,\n",
        "                           geometry=gpd.points_from_xy(df.longitude, df.latitude),\n",
        "                           crs=\"EPSG:4326\")\n",
        "    return gdf\n",
        "\n",
        "def calculate_distances(gdf, target_coords):\n",
        "    target_point = gpd.GeoSeries([gpd.points_from_xy([target_coords[0]],\n",
        "                                                     [target_coords[1]])[0]],\n",
        "                                  crs=\"EPSG:4326\")\n",
        "    gdf = gdf.to_crs(\"EPSG:3857\")\n",
        "    target_point = target_point.to_crs(\"EPSG:3857\")\n",
        "    gdf['distance'] = gdf.geometry.distance(target_point.iloc[0])\n",
        "    return gdf\n",
        "\n",
        "def get_closest_building(gdf):\n",
        "    closest_building = gdf.loc[gdf['distance'].idxmin()]\n",
        "    return closest_building['full_plus_code']\n",
        "\n",
        "def pipeline():\n",
        "    # Extract\n",
        "    download_and_extract()\n",
        "\n",
        "    # Transform\n",
        "    gdf = load_data_to_geodataframe(CSV_PATH)\n",
        "    gdf = calculate_distances(gdf, CRISTO_COORDS)\n",
        "\n",
        "    # Load\n",
        "    building_code = get_closest_building(gdf)\n",
        "    print(f\"Closest building code: {building_code}\")\n",
        "\n",
        "# The pipeline\n",
        "pipeline()\n"
      ],
      "metadata": {
        "colab": {
          "base_uri": "https://localhost:8080/"
        },
        "id": "uq0CYgre48gz",
        "outputId": "ee025a0f-616d-4ba2-cbbf-b4588ca8a930"
      },
      "execution_count": 26,
      "outputs": [
        {
          "output_type": "stream",
          "name": "stdout",
          "text": [
            "Closest building code: 589R2QXQ+6JRW\n"
          ]
        }
      ]
    },
    {
      "cell_type": "code",
      "source": [],
      "metadata": {
        "id": "Irr1JdWV68mZ"
      },
      "execution_count": null,
      "outputs": []
    }
  ]
}